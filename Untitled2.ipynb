{
 "cells": [
  {
   "cell_type": "code",
   "execution_count": 1,
   "metadata": {},
   "outputs": [
    {
     "name": "stdout",
     "output_type": "stream",
     "text": [
      "Escriba un numero decimal o entero: -3\n",
      "El valor absoluto:  3.0\n"
     ]
    }
   ],
   "source": [
    "#%%PUNTO 1\n",
    "import math\n",
    "num = (float) (input('Escriba un numero decimal o entero: '))\n",
    "num=math.sqrt(num**2)\n",
    "print('El valor absoluto: ',num)"
   ]
  },
  {
   "cell_type": "code",
   "execution_count": 2,
   "metadata": {},
   "outputs": [
    {
     "name": "stdout",
     "output_type": "stream",
     "text": [
      "ingrese un número entero: 7\n",
      "ingrese un segundo numero: 11\n",
      "4\n",
      "la diferencia entre los dos nuneros no arroja un numero primo\n"
     ]
    }
   ],
   "source": [
    "#%%PUNTO 2\n",
    "import math\n",
    "num1 = int(input('ingrese un número entero: '))\n",
    "num2 = int(input('ingrese un segundo numero: '))\n",
    "diferencia = num1-num2\n",
    "diferencia = int(math.sqrt(diferencia*diferencia))\n",
    "print(diferencia)\n",
    "contador = 0\n",
    "for i in range(1,diferencia+1):\n",
    "    if (diferencia% i)==0:\n",
    "        contador =contador +1\n",
    "if contador ==2:\n",
    "    print('la diferencia entre los dos nuneros arroja un numero primo')\n",
    "else:\n",
    "    print('la diferencia entre los dos nuneros no arroja un numero primo')"
   ]
  },
  {
   "cell_type": "code",
   "execution_count": 5,
   "metadata": {},
   "outputs": [
    {
     "name": "stdout",
     "output_type": "stream",
     "text": [
      "el numero  3 es multiplo de 3\n",
      "el numero  6 es multiplo de 3\n",
      "el numero  9 es multiplo de 3\n",
      "el numero  12 es multiplo de 3\n",
      "el numero  15 es multiplo de 3\n",
      "el numero  18 es multiplo de 3\n",
      "el numero  21 es multiplo de 3\n",
      "el numero  24 es multiplo de 3\n",
      "el numero  27 es multiplo de 3\n",
      "el numero  30 es multiplo de 3\n",
      "el numero  33 es multiplo de 3\n",
      "el numero  36 es multiplo de 3\n",
      "el numero  39 es multiplo de 3\n",
      "el numero  42 es multiplo de 3\n",
      "el numero  45 es multiplo de 3\n",
      "el numero  48 es multiplo de 4\n",
      "el numero  52 es multiplo de 4\n",
      "el numero  56 es multiplo de 4\n",
      "el numero  60 es multiplo de 4\n",
      "el numero  64 es multiplo de 4\n",
      "el numero  68 es multiplo de 4\n",
      "el numero  72 es multiplo de 4\n",
      "el numero  76 es multiplo de 4\n",
      "el numero  80 es multiplo de 4\n",
      "el numero  84 es multiplo de 4\n",
      "el numero  88 es multiplo de 4\n",
      "el numero  92 es multiplo de 4\n",
      "el numero  96 es multiplo de 4\n",
      "el numero  100 es multiplo de 4\n",
      "[3, 6, 9, 12, 15, 18, 21, 24, 27, 30, 33, 36, 39, 42, 45]\n",
      "[48, 52, 56, 60, 64, 68, 72, 76, 80, 84, 88, 92, 96, 100]\n"
     ]
    }
   ],
   "source": [
    "#%%PUNTO 3\n",
    "cont=0\n",
    "Lista3=[]   #Vector donde se almacenara los multiplos de 3\n",
    "Lista4=[]   #Vector donde se almacenara los multiplos de 4\n",
    "for i in range(1,101):            \n",
    "    if cont<=14: #Entrara siempre aqui cuando haya encontrado los primeros 15\n",
    "        b=i%3       \n",
    "        if b==0: #Si es multiplo entonces entonces va a llevar un contador\n",
    "            cont=cont+1\n",
    "            Lista3.append(i)  #Se agrega los multiplos de 3\n",
    "            print('el numero ',i,'es multiplo de 3')  \n",
    "#Cuando ya encontro los primeros 15 multiplos de 3, evaulara los multiplos de 4            \n",
    "    else: \n",
    "        a=i%4;\n",
    "        if  a==0:\n",
    "            Lista4.append(i)\n",
    "            print('el numero ',i,'es multiplo de 4')\n",
    "print(Lista3)            \n",
    "print(Lista4)"
   ]
  },
  {
   "cell_type": "code",
   "execution_count": 6,
   "metadata": {},
   "outputs": [
    {
     "name": "stdout",
     "output_type": "stream",
     "text": [
      "(Primer Circulo)Escriba la coordenada x: 30\n",
      "(Primer Circulo)Escriba la coordenada y: 30\n",
      "(Primer Circulo)Escriba el radio: 30\n",
      "(Segundo Circulo)Escriba la coordenada x: 30\n",
      "(Segundo Circulo)Escriba la coordenada y: 30\n",
      "(Segundo Circulo)Escriba el radio: 30\n",
      "Coordenada a: 30\n",
      "Coordenada b: 30\n",
      "(a,b) esta dentro del circulo 1\n",
      "(a,b) esta dentro del circulo 2\n",
      "(a,b) esta dentro de los dos circulos\n"
     ]
    }
   ],
   "source": [
    "#%%PUNTO 4\n",
    "import math\n",
    "x1 = (int)(input('(Primer Circulo)Escriba la coordenada x: '))\n",
    "y1 = (int)(input('(Primer Circulo)Escriba la coordenada y: '))\n",
    "r1 = (int)(input('(Primer Circulo)Escriba el radio: '))\n",
    "\n",
    "x2 = (int)(input('(Segundo Circulo)Escriba la coordenada x: '))\n",
    "y2 = (int)(input('(Segundo Circulo)Escriba la coordenada y: '))\n",
    "r2 = (int)(input('(Segundo Circulo)Escriba el radio: '))\n",
    "\n",
    "a = (int)(input('Coordenada a: '))\n",
    "b = (int)(input('Coordenada b: '))\n",
    "\n",
    "#Se obtiene la distancia desde la coordenada al centro, para ambos circulos\n",
    "dist1= math.sqrt((x1-a)**2+(y1-b)**2)\n",
    "dist2= math.sqrt((x2-a)**2+(y2-b)**2)\n",
    "\n",
    "cont=0\n",
    "#Las condiciones se basan en que si la distancia es menor que el radio\n",
    "#entonces esta dentro del circulo\n",
    "if (dist1<=r1):\n",
    "    print('(a,b) esta dentro del circulo 1')\n",
    "    cont=cont+1\n",
    "else:\n",
    "    print('(a,b) no esta dentro del circulo 1')    \n",
    "if (dist2<=r2):  \n",
    "    print('(a,b) esta dentro del circulo 2')\n",
    "    cont=cont+1\n",
    "else:\n",
    "    print('(a,b) no esta dentro del circulo 2')\n",
    "#Si entró a los 2 if, entonces quiere decir que esta dentro de los 2 circulos      \n",
    "if (cont==2):\n",
    "    print('(a,b) esta dentro de los dos circulos')\n",
    "#Si no entró a ninguno de los 2 if, entonces cont=0\n",
    "if (cont==0):\n",
    "    print('(a,b) no esta dentro de los dos circulos')"
   ]
  },
  {
   "cell_type": "code",
   "execution_count": 7,
   "metadata": {},
   "outputs": [
    {
     "name": "stdout",
     "output_type": "stream",
     "text": [
      "Introduzca un texto: gabriel\n",
      "Existen  0  vocales en mayuscula\n",
      "Existen  0  letras con tilde\n",
      "Existen  0  digitos\n",
      "Existen  0  espacios\n",
      "Existen  0  palabras reservadas\n"
     ]
    }
   ],
   "source": [
    "#%% PUNTO 5\n",
    "import keyword\n",
    "texto=input('Introduzca un texto: ')\n",
    "lista=keyword.kwlist     \n",
    "cont1=0            #cantidad de vocales en mayuscula\n",
    "cont2=0            #Cantidad de letras con tilde\n",
    "cont3=0            #Cantidad de digitos introducidos \n",
    "cont4=0            #Cantidad de espacios \n",
    "cont5=0            #Cantidad de palabras reservadas \n",
    "palabras=texto.split()  \n",
    "#Se llevaran contadores cuando cumplan cierta condicion     \n",
    "for i in range(0,len(texto)):\n",
    "    valor=ord(texto[i]) #Convierte la letra en su numero respectivo\n",
    "    if (valor==65 or valor==69 or valor==73 or valor==79 or valor==85):\n",
    "        cont1=cont1+1\n",
    "    elif (valor==193 or valor==201 or valor==205 or valor==211 or valor==218 or \n",
    "          valor==225 or valor==233 or valor==237 or valor==243 or valor==250):\n",
    "        cont2=cont2+1\n",
    "    elif (texto[i].isdigit()):        \n",
    "        cont3=cont3+1            \n",
    "    elif (texto[i]==' '):\n",
    "        cont4=cont4+1\n",
    "for i in range(len(palabras)):\n",
    "    if palabras[i] in lista:\n",
    "        cont5=cont5+1\n",
    "print('Existen ',cont1,' vocales en mayuscula')        \n",
    "print('Existen ',cont2,' letras con tilde')        \n",
    "print('Existen ',cont3,' digitos')        \n",
    "print('Existen ',cont4,' espacios')  \n",
    "print('Existen ',cont5,' palabras reservadas')"
   ]
  },
  {
   "cell_type": "code",
   "execution_count": 8,
   "metadata": {},
   "outputs": [
    {
     "name": "stdout",
     "output_type": "stream",
     "text": [
      "Introduzca un texto: ana\n",
      "aan\n"
     ]
    }
   ],
   "source": [
    "#%% PUNTO 6\n",
    "texto=input('Introduzca un texto: ')   \n",
    "texto1=[]       #vector vacio\n",
    "#Aqui lo que se hace es dejar el texto sin espacios\n",
    "for i in range(len(texto)):    \n",
    "    if (texto[i]==' '):\n",
    "        texto1+=''\n",
    "    else:\n",
    "        texto1+=texto[i]            \n",
    "texto1=sorted(texto1) #Se ordena el vector\n",
    "cadena=\"\".join(texto1) #Se convierte el vector en cadena\n",
    "print(cadena)"
   ]
  },
  {
   "cell_type": "code",
   "execution_count": 9,
   "metadata": {},
   "outputs": [
    {
     "name": "stdout",
     "output_type": "stream",
     "text": [
      "Cuantos elementos desea introducir: 4\n",
      "Introduzca el numero 1:2\n",
      "Introduzca el numero 2:3\n",
      "Introduzca el numero 3:4\n",
      "Introduzca el numero 4:5\n",
      "Inserte un numero: 2\n",
      "La lista ordenada es:  ['2', '2', '3', '4', '5']\n"
     ]
    }
   ],
   "source": [
    "#%%PUNTO 7\n",
    "cant=(int)(input('Cuantos elementos desea introducir: ')) #Cantidad de numeros\n",
    "vec=[]        #Vector con numeros enteros\n",
    "\n",
    "#Aqui se pide los numeros enteros y se guardan en la lista\n",
    "for i in range(cant):\n",
    "    vec.append(input('Introduzca el numero '+str(i+1)+':'))     \n",
    "\n",
    "vecOrd=sorted(vec)  #Vector ordenado\n",
    "#Se verifica si el vector esta ordenado\n",
    "for i in range(len(vec)):\n",
    "    if vecOrd[i]!=vec[i]:\n",
    "        print('El vector no estaba ordenado')\n",
    "        break\n",
    "    \n",
    "num=input('Inserte un numero: ')   \n",
    "vec.append(num) #Se agrega el numero al vector\n",
    "vecOrd=sorted(vec) #Se vuelve a ordenar el vector\n",
    "print('La lista ordenada es: ',vecOrd)"
   ]
  },
  {
   "cell_type": "code",
   "execution_count": 12,
   "metadata": {},
   "outputs": [
    {
     "name": "stdout",
     "output_type": "stream",
     "text": [
      "digite el arreglo\n",
      "1 7 9 10 10\n",
      "9\n"
     ]
    }
   ],
   "source": [
    "#%% PUNTO 8\n",
    "\n",
    "print(\"digite el arreglo\")             \n",
    "cadena=[]                              \n",
    "cadena=input().split()                 \n",
    "cadena1=[]                             \n",
    "for i in cadena:                       \n",
    "    cadena1.append(int(i))             \n",
    "lista_nueva = []                       \n",
    "for i in cadena1:                      \n",
    "    if i not in lista_nueva:           \n",
    "        lista_nueva.append(i)          \n",
    "lista_nueva.remove(max(lista_nueva))   \n",
    "print(max(lista_nueva))"
   ]
  },
  {
   "cell_type": "code",
   "execution_count": 13,
   "metadata": {},
   "outputs": [
    {
     "name": "stdout",
     "output_type": "stream",
     "text": [
      "Ingresa un numero: 7\n",
      "Ingresa la cantidad de numeros: 20\n",
      "7,22,11,34,17,52,26,13,40,20,10,5,16,8,4,2,1\n"
     ]
    }
   ],
   "source": [
    "#%% PUNTO 9                                           \n",
    "numero = int(input(\"Ingresa un numero: \"))                                                                                      \n",
    "pausa = int(input(\"Ingresa la cantidad de numeros: \"))                                                                          \n",
    "nume=0                                                                                                                          \n",
    "while numero != 1:                                                                                                              \n",
    "    nume=nume+1                                                                                                                 \n",
    "    if numero % 2 == 0:                                                                                                         \n",
    "        print(\"%d,\" % (numero), end = \"\")                                                                                       \n",
    "        numero = numero / 2                                                                                                     \n",
    "    else:                                                                                                                       \n",
    "        print(\"%d,\" % (numero), end = \"\")                                                                                       \n",
    "        numero = (numero * 3) + 1                                                                                               \n",
    "                                                                                                                                \n",
    "    if numero == 1:                                                                                                             \n",
    "        print(\"1\")                                                                                                              \n",
    "    if(nume == pausa):                                                                                                          \n",
    "        break      "
   ]
  },
  {
   "cell_type": "code",
   "execution_count": 14,
   "metadata": {},
   "outputs": [
    {
     "name": "stdout",
     "output_type": "stream",
     "text": [
      "[[470, 593, 281, 444, 659], [306, 606, 471, 850, 248], [897, 634, 454, 478, 876], [4, 516, 674, 942, 111], [708, 852, 994, 797, 740]]\n",
      "740\n",
      "111\n",
      "876\n",
      "248\n",
      "659\n",
      "444\n",
      "850\n",
      "478\n",
      "942\n",
      "797\n",
      "994\n",
      "674\n",
      "454\n",
      "471\n",
      "281\n",
      "593\n",
      "606\n",
      "634\n",
      "516\n",
      "852\n",
      "708\n",
      "4\n",
      "897\n",
      "306\n",
      "470\n"
     ]
    }
   ],
   "source": [
    "#%% PUNTO 10                                                                            \n",
    "import random                                                                                                                        \n",
    "n = int(5)                                                                                                                           \n",
    "matriz=[None]*n                                                                                                                      \n",
    "for i in range(0,n):                                                                                                                 \n",
    "    matriz[i] = [None]*n                                                                                                             \n",
    "for i in range(0,n):                                                                                                                 \n",
    "    for j in range(0,n):                                                                                                             \n",
    "        matriz[i][j] = (int)(random.randint(1,1001))                                                                                 \n",
    "print(matriz)                                                                                                                        \n",
    "for i in range(n-1,-1,-1):                                                                                                           \n",
    "    if(i%2==0):                                                                                                                      \n",
    "        for j in range(n-1,-1,-1):                                                                                                   \n",
    "            print (matriz[j][i])                                                                                                     \n",
    "    else:                                                                                                                            \n",
    "        for j in range(0,n):                                                                                                         \n",
    "            print (matriz[j][i])                                                                                                     \n",
    "                                  "
   ]
  },
  {
   "cell_type": "code",
   "execution_count": 15,
   "metadata": {},
   "outputs": [
    {
     "name": "stdout",
     "output_type": "stream",
     "text": [
      "Anchura del rectángulo: 4\n",
      "Altura del rectángulo: 3\n",
      "Caracter: 3\n",
      "3  3  3  3  \n",
      "3  3  3  3  \n",
      "3  3  3  3  \n"
     ]
    }
   ],
   "source": [
    "#%% PUNTO 11                                                                                                      \n",
    "# PROGRAMA QUE PIDE B Y H DE UN RECTÁNGULO Y LO GRAFICA\n",
    "anchura = int(input(\"Anchura del rectángulo: \")) #solicita el ancho\n",
    "altura = int(input(\"Altura del rectángulo: \")) #solicita la altura\n",
    "caracter =(input('Caracter: ')) #solita el caracter que se dibujara\n",
    "\n",
    "for i in range(altura):\n",
    "    for j in range(anchura):\n",
    "        print(caracter, end=\"  \")\n",
    "    print()                             "
   ]
  },
  {
   "cell_type": "code",
   "execution_count": 16,
   "metadata": {},
   "outputs": [
    {
     "name": "stdout",
     "output_type": "stream",
     "text": [
      "ingrese el ancho ancho del triangulo:  4\n",
      "\n",
      "* \n",
      "* * \n",
      "* * * \n",
      "* * * * \n",
      "* * * \n",
      "* * \n",
      "* \n"
     ]
    }
   ],
   "source": [
    "#%%PUNTO 12\n",
    "a = int(input(\"ingrese el ancho ancho del triangulo:  \"))\n",
    "\n",
    "for k in range(a+1):\n",
    "    print(\"* \"*k)\n",
    "    \n",
    "for d in range(1, a):\n",
    "    for j in range(a - d):\n",
    "        print(\"* \", end=\"\")\n",
    "    print()       "
   ]
  },
  {
   "cell_type": "code",
   "execution_count": 17,
   "metadata": {},
   "outputs": [
    {
     "name": "stdout",
     "output_type": "stream",
     "text": [
      "Escriba un año\n",
      "--> 2000\n",
      "Por favor escriba otro año, posterior al año  2000\n",
      "--> 2010\n",
      "Entre los años 2000 y 2010 hay 11 años, 3 de ellos son bisiestos\n"
     ]
    }
   ],
   "source": [
    "#%%PUNTO 13\n",
    "def evalua_int():                  #la función no tiene parametros de entrada\n",
    "    while True:                    # mientras sea verdad el ciclo se va \n",
    "                                   #a repetir:  \n",
    "        try:                       #1) evaluar la variable num\n",
    "            num=int(input('--> ')) #2) si el valor ingresado es un int el ciclo\n",
    "            break                  #se finalizara con un break\n",
    "        except ValueError:         #3) sino muestra error\n",
    "                                   #en este caso es el mensaje al usario\n",
    "            print('no es un número entero, intentalo otra vez')\n",
    "                                   # esto se repite hasta que se ingrese un int          \n",
    "            \n",
    "    return(num)                    #retorno valor de la variable num\n",
    "    \n",
    "\n",
    "\n",
    "def añosbisiesto():            # funcion sin parametros \n",
    "    print('Escriba un año')    # informacion dada por el usuario\n",
    "    num1=evalua_int()          #verifca el número ingresado\n",
    "    while True:                #ciclo de repeticion para garantizar que el num2\n",
    "                               #sea mayor que el num1\n",
    "         print('Por favor escriba otro año, posterior al año ',num1)\n",
    "         num2=evalua_int()     #evalua y valida el num2 mediante la \n",
    "                               #función evalua_int \n",
    "         if num1>num2:         #compara los valores ingresados si num1>num2\n",
    "                               #el programa arroja el mesaje al usuario para \n",
    "                               #que se modifique \n",
    "             print(num2, 'No es mayor que ',num1,'intentelo de nuevo --> ')\n",
    "         else:                 #de lo contrario los valores ingresados son los \n",
    "             break             #solicitados y el ciclo se cierra con un break\n",
    "            \n",
    "    cont=0                       #inicialización del contador para años\n",
    "                                 #bisiestos \n",
    "    for i in range(num1,num2+1): #evaluación de todos los años en el rango \n",
    "        if i%4==0:               #si es múltiplo de 4 significa que es bisiesto\n",
    "            cont+=1              #y se agrega una unidad al contador \n",
    "    \n",
    "    #resultado listo para imprimir \n",
    "    R='Entre los años',num1,'y',num2,'hay',num2-num1+1,'años,',cont,'de ellos son bisiestos'\n",
    "    return(R)    \n",
    "    \n",
    "                          \n",
    "print(*añosbisiesto())               #se llama a la función año bisiesto    "
   ]
  },
  {
   "cell_type": "code",
   "execution_count": 18,
   "metadata": {},
   "outputs": [
    {
     "name": "stdout",
     "output_type": "stream",
     "text": [
      "adivine la suma de los numeros 55 y 29\n",
      "83\n",
      "sus aciertos son: 0\n",
      "adivine la suma de los numeros 3 y 44\n",
      "47\n",
      "sus aciertos son: 1\n",
      "adivine la suma de los numeros 43 y 11\n",
      "3\n",
      "sus aciertos son: 0\n",
      "adivine la suma de los numeros 47 y 48\n",
      "2\n",
      "sus aciertos son: 0\n",
      "adivine la suma de los numeros 92 y 15\n",
      "1\n",
      "sus aciertos son: 0\n",
      "adivine la suma de los numeros 63 y 38\n",
      "131\n",
      "sus aciertos son: 0\n",
      "adivine la suma de los numeros 79 y 21\n",
      "100\n",
      "sus aciertos son: 1\n",
      "adivine la suma de los numeros 25 y 87\n",
      "112\n",
      "sus aciertos son: 2\n",
      "adivine la suma de los numeros 72 y 90\n",
      "162\n",
      "sus aciertos son: 3\n",
      "adivine la suma de los numeros 2 y 70\n",
      "72\n",
      "sus aciertos son: 4\n",
      "adivine la suma de los numeros 26 y 61\n",
      "87\n",
      "usted acerto 5 veces :D\n"
     ]
    }
   ],
   "source": [
    "#%% PUNTO 14                                                     \n",
    "import random                                                                                                                        \n",
    "aciertos=0                                                                                                                           \n",
    "while(True):                                                                                                                         \n",
    "    num1=random.randint(0, 100)                                                                                                      \n",
    "    num2=random.randint(0, 100)                                                                                                      \n",
    "    print(\"adivine la suma de los numeros \" + str(num1) + \" y \"+str(num2))                                                           \n",
    "    respueta_in=int(input())                                                                                                         \n",
    "    respuesta_real=num1+num2                                                                                                         \n",
    "    if(respueta_in==respuesta_real):                                                                                                 \n",
    "        aciertos=aciertos+1                                                                                                          \n",
    "    else:                                                                                                                            \n",
    "        aciertos=0                                                                                                                   \n",
    "    if(aciertos==5):                                                                                                                 \n",
    "        break                                                                                                                        \n",
    "    print(\"sus aciertos son: \" + str(aciertos))                                                                                      \n",
    "print(\"usted acerto 5 veces :D\")"
   ]
  },
  {
   "cell_type": "code",
   "execution_count": null,
   "metadata": {},
   "outputs": [],
   "source": [
    "#%% PUNTO 15\n",
    "import random\n",
    "\n",
    "# simbolos validos en el codigo\n",
    "digitos = ('0','1','2','3','4','5','6','7','8','9')\n",
    "\n",
    "# \"elegimos\" el codigo\n",
    "codigo = ''\n",
    "for i in range(4):\n",
    "    candidato = random.choice(digitos)\n",
    "    # vamos eligiendo digitos no repetidos*\n",
    "    while candidato in codigo:\n",
    "        candidato = random.choice(digitos)\n",
    "    codigo = codigo + candidato\n",
    "\n",
    "print (\"Bienvenido/a, Tienes que adivinar un numero de\", 4, \"cifras distintas\")\n",
    "propuesta =input(\"Propon un código: \") #solicita ingresar un código\n",
    "\n",
    "intentos = 1 # empieza a mirar propuestas e indica  aciertos y coincidencias\n",
    "while propuesta != codigo:\n",
    "    intentos = intentos + 1\n",
    "    aciertos = 0\n",
    "    coincidencias = 0\n",
    "\n",
    "    for i in range(4): # procesa la propuesta y verifica en el codigo\n",
    "        if propuesta[i] == codigo[i]:\n",
    "            aciertos = aciertos + 1\n",
    "        elif propuesta[i] in codigo:\n",
    "            coincidencias = coincidencias + 1\n",
    "    print (\"Tu propuesta (\", propuesta, \") tiene\", aciertos, \\\n",
    "          \"aciertos y \", coincidencias, \"coincidencias.\")\n",
    "    \n",
    "    propuesta =input(\"Propon otro codigo: \") # pedimos siguiente propuesta*\n",
    "\n",
    "print (\"Genial! Adivinaste el codigo en\", intentos, \"intentos.\")\n"
   ]
  }
 ],
 "metadata": {
  "kernelspec": {
   "display_name": "Python 3",
   "language": "python",
   "name": "python3"
  },
  "language_info": {
   "codemirror_mode": {
    "name": "ipython",
    "version": 3
   },
   "file_extension": ".py",
   "mimetype": "text/x-python",
   "name": "python",
   "nbconvert_exporter": "python",
   "pygments_lexer": "ipython3",
   "version": "3.7.3"
  }
 },
 "nbformat": 4,
 "nbformat_minor": 2
}
